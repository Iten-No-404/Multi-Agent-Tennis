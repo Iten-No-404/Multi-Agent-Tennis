{
 "cells": [
  {
   "cell_type": "code",
   "execution_count": 1,
   "id": "225f907f",
   "metadata": {},
   "outputs": [
    {
     "name": "stdout",
     "output_type": "stream",
     "text": [
      "Using cpu as device!\n"
     ]
    }
   ],
   "source": [
    "from unityagents import UnityEnvironment\n",
    "import numpy as np\n",
    "import torch\n",
    "from collections import deque\n",
    "import matplotlib.pyplot as plt\n",
    "from multi_ddpg_agent import MultiAgent"
   ]
  },
  {
   "cell_type": "code",
   "execution_count": 2,
   "id": "e2fe6e28",
   "metadata": {},
   "outputs": [
    {
     "name": "stderr",
     "output_type": "stream",
     "text": [
      "INFO:unityagents:\n",
      "'Academy' started successfully!\n",
      "Unity Academy name: Academy\n",
      "        Number of Brains: 1\n",
      "        Number of External Brains : 1\n",
      "        Lesson number : 0\n",
      "        Reset Parameters :\n",
      "\t\t\n",
      "Unity brain name: TennisBrain\n",
      "        Number of Visual Observations (per agent): 0\n",
      "        Vector Observation space type: continuous\n",
      "        Vector Observation space size (per agent): 8\n",
      "        Number of stacked Vector Observation: 3\n",
      "        Vector Action space type: continuous\n",
      "        Vector Action space size (per agent): 2\n",
      "        Vector Action descriptions: , \n"
     ]
    }
   ],
   "source": [
    "env = UnityEnvironment(file_name=\"Tennis_Windows_x86_64/Tennis.exe\")"
   ]
  },
  {
   "cell_type": "code",
   "execution_count": 3,
   "id": "59d1cd43",
   "metadata": {},
   "outputs": [],
   "source": [
    "# get the default brain\n",
    "brain_name = env.brain_names[0]\n",
    "brain = env.brains[brain_name]"
   ]
  },
  {
   "cell_type": "code",
   "execution_count": null,
   "id": "a9b2b33e",
   "metadata": {},
   "outputs": [],
   "source": [
    "# reset the environment\n",
    "env_info = env.reset(train_mode=True)[brain_name]\n",
    "\n",
    "# number of agents \n",
    "num_agents = len(env_info.agents)\n",
    "\n",
    "# size of each action\n",
    "action_size = brain.vector_action_space_size\n",
    "\n",
    "# examine the state space \n",
    "states = env_info.vector_observations\n",
    "state_size = states.shape[1]"
   ]
  },
  {
   "cell_type": "code",
   "execution_count": 6,
   "id": "76326d17",
   "metadata": {},
   "outputs": [
    {
     "name": "stderr",
     "output_type": "stream",
     "text": [
      "c:\\Users\\ielhak\\AppData\\Local\\anaconda3\\envs\\drlnd\\lib\\site-packages\\torch\\nn\\functional.py:1795: UserWarning: nn.functional.tanh is deprecated. Use torch.tanh instead.\n",
      "  warnings.warn(\"nn.functional.tanh is deprecated. Use torch.tanh instead.\")\n"
     ]
    },
    {
     "name": "stdout",
     "output_type": "stream",
     "text": [
      "scores = [2.60000004 2.60000004]\n",
      "Max Score = 2.600000038743019\n",
      "scores = [2.60000004 2.60000004]\n",
      "Max Score = 2.600000038743019\n",
      "scores = [0.29 0.3 ]\n",
      "Max Score = 0.30000000447034836\n",
      "scores = [1.39000002 1.50000002]\n",
      "Max Score = 1.5000000223517418\n",
      "scores = [0.19 0.3 ]\n",
      "Max Score = 0.30000000447034836\n",
      "scores = [0.50000001 0.39000001]\n",
      "Max Score = 0.5000000074505806\n",
      "scores = [ 0.1  -0.01]\n",
      "Max Score = 0.10000000149011612\n",
      "scores = [ 0.1  -0.01]\n",
      "Max Score = 0.10000000149011612\n",
      "scores = [0.1  0.09]\n",
      "Max Score = 0.10000000149011612\n",
      "scores = [-0.01  0.1 ]\n",
      "Max Score = 0.10000000149011612\n"
     ]
    }
   ],
   "source": [
    "import os\n",
    "import json\n",
    "from tqdm import tqdm\n",
    "\n",
    "k = 3\n",
    "models_path = f'ddpg_trials/{k}/'\n",
    "\n",
    "properties = {}\n",
    "with open(os.path.join(models_path, 'parameters.json'), 'r', encoding='utf-8') as f:\n",
    "    properties = json.load(f)\n",
    "\n",
    "\n",
    "agent = MultiAgent(state_size=state_size, action_size=action_size, num_agents=num_agents, random_seed=0,\n",
    "                    buffer_size=properties['buffer_size'],\n",
    "                    batch_size=properties['batch_size'],\n",
    "                    gamma=properties['gamma'],\n",
    "                    tau=properties['tau'],\n",
    "                    lr_actor=properties['lr_actor'],\n",
    "                    lr_critic=properties['lr_critic'],\n",
    "                    )\n",
    "\n",
    "# load the weights from file\n",
    "agent.actors_local[0].load_state_dict(torch.load(f'{models_path}0_actor.pth'))\n",
    "agent.actors_local[1].load_state_dict(torch.load(f'{models_path}1_actor.pth'))\n",
    "agent.critic_local.load_state_dict(torch.load(f'{models_path}critic.pth'))\n",
    "\n",
    "for i in range(10):\n",
    "    env_info = env.reset(train_mode=False)[brain_name] # reset the environment\n",
    "\n",
    "    states = env_info.vector_observations\n",
    "    scores = np.zeros(num_agents)\n",
    "    agent.reset()\n",
    "\n",
    "    done = False\n",
    "    while not done:\n",
    "\n",
    "        actions = agent.act(states)                                # get actions\n",
    "        env_info = env.step(actions)[brain_name]                   # step environment\n",
    "        next_states = env_info.vector_observations\n",
    "        rewards = env_info.rewards\n",
    "        dones = env_info.local_done\n",
    "        agent.step(states, actions, rewards, next_states, dones)   # agent learns\n",
    "        scores += rewards\n",
    "        states = next_states\n",
    "\n",
    "        if np.any(dones):\n",
    "            break\n",
    "\n",
    "    print('scores =', scores)\n",
    "    max_score = np.max(scores)\n",
    "    print('Max Score =', max_score)"
   ]
  },
  {
   "cell_type": "code",
   "execution_count": null,
   "id": "43bd339e",
   "metadata": {},
   "outputs": [],
   "source": []
  }
 ],
 "metadata": {
  "kernelspec": {
   "display_name": "drlnd",
   "language": "python",
   "name": "python3"
  },
  "language_info": {
   "codemirror_mode": {
    "name": "ipython",
    "version": 3
   },
   "file_extension": ".py",
   "mimetype": "text/x-python",
   "name": "python",
   "nbconvert_exporter": "python",
   "pygments_lexer": "ipython3",
   "version": "3.6.13"
  }
 },
 "nbformat": 4,
 "nbformat_minor": 5
}
