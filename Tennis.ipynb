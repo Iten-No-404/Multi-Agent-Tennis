{
 "cells": [
  {
   "cell_type": "markdown",
   "metadata": {},
   "source": [
    "# Collaboration and Competition\n",
    "\n",
    "---\n",
    "\n",
    "In this notebook, you will learn how to use the Unity ML-Agents environment for the third project of the [Deep Reinforcement Learning Nanodegree](https://www.udacity.com/course/deep-reinforcement-learning-nanodegree--nd893) program.\n",
    "\n",
    "### 1. Start the Environment\n",
    "\n",
    "We begin by importing the necessary packages.  If the code cell below returns an error, please revisit the project instructions to double-check that you have installed [Unity ML-Agents](https://github.com/Unity-Technologies/ml-agents/blob/master/docs/Installation.md) and [NumPy](http://www.numpy.org/)."
   ]
  },
  {
   "cell_type": "code",
   "execution_count": 1,
   "metadata": {},
   "outputs": [
    {
     "name": "stdout",
     "output_type": "stream",
     "text": [
      "Using cpu as device!\n"
     ]
    }
   ],
   "source": [
    "from unityagents import UnityEnvironment\n",
    "import numpy as np\n",
    "import torch\n",
    "from collections import deque\n",
    "import matplotlib.pyplot as plt\n",
    "from multi_ddpg_agent import MultiAgent"
   ]
  },
  {
   "cell_type": "code",
   "execution_count": 2,
   "metadata": {},
   "outputs": [
    {
     "data": {
      "text/plain": [
       "False"
      ]
     },
     "execution_count": 2,
     "metadata": {},
     "output_type": "execute_result"
    }
   ],
   "source": [
    "torch.cuda.is_available()"
   ]
  },
  {
   "cell_type": "code",
   "execution_count": 3,
   "metadata": {},
   "outputs": [
    {
     "name": "stdout",
     "output_type": "stream",
     "text": [
      "1.10.2+cpu\n",
      "None\n"
     ]
    }
   ],
   "source": [
    "import torch\n",
    "print(torch.__version__)\n",
    "print(torch.version.cuda)"
   ]
  },
  {
   "cell_type": "markdown",
   "metadata": {},
   "source": [
    "Next, we will start the environment!  **_Before running the code cell below_**, change the `file_name` parameter to match the location of the Unity environment that you downloaded.\n",
    "\n",
    "- **Mac**: `\"path/to/Tennis.app\"`\n",
    "- **Windows** (x86): `\"path/to/Tennis_Windows_x86/Tennis.exe\"`\n",
    "- **Windows** (x86_64): `\"path/to/Tennis_Windows_x86_64/Tennis.exe\"`\n",
    "- **Linux** (x86): `\"path/to/Tennis_Linux/Tennis.x86\"`\n",
    "- **Linux** (x86_64): `\"path/to/Tennis_Linux/Tennis.x86_64\"`\n",
    "- **Linux** (x86, headless): `\"path/to/Tennis_Linux_NoVis/Tennis.x86\"`\n",
    "- **Linux** (x86_64, headless): `\"path/to/Tennis_Linux_NoVis/Tennis.x86_64\"`\n",
    "\n",
    "For instance, if you are using a Mac, then you downloaded `Tennis.app`.  If this file is in the same folder as the notebook, then the line below should appear as follows:\n",
    "```\n",
    "env = UnityEnvironment(file_name=\"Tennis.app\")\n",
    "```"
   ]
  },
  {
   "cell_type": "code",
   "execution_count": 4,
   "metadata": {},
   "outputs": [
    {
     "name": "stderr",
     "output_type": "stream",
     "text": [
      "INFO:unityagents:\n",
      "'Academy' started successfully!\n",
      "Unity Academy name: Academy\n",
      "        Number of Brains: 1\n",
      "        Number of External Brains : 1\n",
      "        Lesson number : 0\n",
      "        Reset Parameters :\n",
      "\t\t\n",
      "Unity brain name: TennisBrain\n",
      "        Number of Visual Observations (per agent): 0\n",
      "        Vector Observation space type: continuous\n",
      "        Vector Observation space size (per agent): 8\n",
      "        Number of stacked Vector Observation: 3\n",
      "        Vector Action space type: continuous\n",
      "        Vector Action space size (per agent): 2\n",
      "        Vector Action descriptions: , \n"
     ]
    }
   ],
   "source": [
    "env = UnityEnvironment(file_name=\"Tennis_Windows_x86_64/Tennis.exe\")"
   ]
  },
  {
   "cell_type": "markdown",
   "metadata": {},
   "source": [
    "Environments contain **_brains_** which are responsible for deciding the actions of their associated agents. Here we check for the first brain available, and set it as the default brain we will be controlling from Python."
   ]
  },
  {
   "cell_type": "code",
   "execution_count": 5,
   "metadata": {},
   "outputs": [],
   "source": [
    "# get the default brain\n",
    "brain_name = env.brain_names[0]\n",
    "brain = env.brains[brain_name]"
   ]
  },
  {
   "cell_type": "markdown",
   "metadata": {},
   "source": [
    "### 2. Examine the State and Action Spaces\n",
    "\n",
    "In this environment, two agents control rackets to bounce a ball over a net. If an agent hits the ball over the net, it receives a reward of +0.1.  If an agent lets a ball hit the ground or hits the ball out of bounds, it receives a reward of -0.01.  Thus, the goal of each agent is to keep the ball in play.\n",
    "\n",
    "The observation space consists of 8 variables corresponding to the position and velocity of the ball and racket. Two continuous actions are available, corresponding to movement toward (or away from) the net, and jumping. \n",
    "\n",
    "Run the code cell below to print some information about the environment."
   ]
  },
  {
   "cell_type": "code",
   "execution_count": 6,
   "metadata": {},
   "outputs": [
    {
     "name": "stdout",
     "output_type": "stream",
     "text": [
      "Number of agents: 2\n",
      "Size of each action: 2\n",
      "There are 2 agents. Each observes a state with length: 24\n",
      "The state for the first agent looks like: [ 0.          0.          0.          0.          0.          0.\n",
      "  0.          0.          0.          0.          0.          0.\n",
      "  0.          0.          0.          0.         -6.65278625 -1.5\n",
      " -0.          0.          6.83172083  6.         -0.          0.        ]\n"
     ]
    }
   ],
   "source": [
    "# reset the environment\n",
    "env_info = env.reset(train_mode=True)[brain_name]\n",
    "\n",
    "# number of agents \n",
    "num_agents = len(env_info.agents)\n",
    "print('Number of agents:', num_agents)\n",
    "\n",
    "# size of each action\n",
    "action_size = brain.vector_action_space_size\n",
    "print('Size of each action:', action_size)\n",
    "\n",
    "# examine the state space \n",
    "states = env_info.vector_observations\n",
    "state_size = states.shape[1]\n",
    "print('There are {} agents. Each observes a state with length: {}'.format(states.shape[0], state_size))\n",
    "print('The state for the first agent looks like:', states[0])"
   ]
  },
  {
   "cell_type": "markdown",
   "metadata": {},
   "source": [
    "### 3. Take Random Actions in the Environment\n",
    "\n",
    "In the next code cell, you will learn how to use the Python API to control the agents and receive feedback from the environment.\n",
    "\n",
    "Once this cell is executed, you will watch the agents' performance, if they select actions at random with each time step.  A window should pop up that allows you to observe the agents.\n",
    "\n",
    "Of course, as part of the project, you'll have to change the code so that the agents are able to use their experiences to gradually choose better actions when interacting with the environment!"
   ]
  },
  {
   "cell_type": "code",
   "execution_count": 7,
   "metadata": {},
   "outputs": [
    {
     "name": "stdout",
     "output_type": "stream",
     "text": [
      "Score (max over agents) from episode 1: 0.0\n",
      "Score (max over agents) from episode 2: 0.0\n",
      "Score (max over agents) from episode 3: 0.0\n",
      "Score (max over agents) from episode 4: 0.09000000171363354\n",
      "Score (max over agents) from episode 5: 0.09000000171363354\n"
     ]
    }
   ],
   "source": [
    "for i in range(1, 6):                                      # play game for 5 episodes\n",
    "    env_info = env.reset(train_mode=False)[brain_name]     # reset the environment    \n",
    "    states = env_info.vector_observations                  # get the current state (for each agent)\n",
    "    scores = np.zeros(num_agents)                          # initialize the score (for each agent)\n",
    "    while True:\n",
    "        actions = np.random.randn(num_agents, action_size) # select an action (for each agent)\n",
    "        actions = np.clip(actions, -1, 1)                  # all actions between -1 and 1\n",
    "        env_info = env.step(actions)[brain_name]           # send all actions to tne environment\n",
    "        next_states = env_info.vector_observations         # get next state (for each agent)\n",
    "        rewards = env_info.rewards                         # get reward (for each agent)\n",
    "        dones = env_info.local_done                        # see if episode finished\n",
    "        scores += env_info.rewards                         # update the score (for each agent)\n",
    "        states = next_states                               # roll over states to next time step\n",
    "        if np.any(dones):                                  # exit loop if episode finished\n",
    "            break\n",
    "    print('Score (max over agents) from episode {}: {}'.format(i, np.max(scores)))"
   ]
  },
  {
   "cell_type": "markdown",
   "metadata": {},
   "source": [
    "When finished, you can close the environment."
   ]
  },
  {
   "cell_type": "code",
   "execution_count": null,
   "metadata": {},
   "outputs": [],
   "source": [
    "# env.close()"
   ]
  },
  {
   "cell_type": "markdown",
   "metadata": {},
   "source": [
    "### 4. It's Your Turn!\n",
    "\n",
    "Now it's your turn to train your own agent to solve the environment!  When training the environment, set `train_mode=True`, so that the line for resetting the environment looks like the following:\n",
    "```python\n",
    "env_info = env.reset(train_mode=True)[brain_name]\n",
    "```"
   ]
  },
  {
   "cell_type": "code",
   "execution_count": null,
   "metadata": {},
   "outputs": [],
   "source": [
    "# Create agent\n",
    "agent = MultiAgent(state_size=state_size, action_size=action_size, num_agents=num_agents, random_seed=2)\n",
    "\n",
    "# Training parameters\n",
    "n_episodes = 2000\n",
    "max_t = 1000\n",
    "print_every = 100\n",
    "scores_window = deque(maxlen=100)\n",
    "all_scores = []\n",
    "\n",
    "for i_episode in range(1, n_episodes+1):\n",
    "    env_info = env.reset(train_mode=True)[brain_name]\n",
    "    states = env_info.vector_observations\n",
    "    scores = np.zeros(num_agents)\n",
    "    agent.reset()\n",
    "    \n",
    "    for t in range(max_t):\n",
    "        actions = agent.act(states)                                # get actions\n",
    "        env_info = env.step(actions)[brain_name]                   # step environment\n",
    "        next_states = env_info.vector_observations\n",
    "        rewards = env_info.rewards\n",
    "        dones = env_info.local_done\n",
    "        agent.step(states, actions, rewards, next_states, dones)   # agent learns\n",
    "        scores += rewards\n",
    "        states = next_states\n",
    "        if np.any(dones):\n",
    "            break\n",
    "    \n",
    "    max_score = np.max(scores)\n",
    "    scores_window.append(max_score)\n",
    "    all_scores.append(max_score)\n",
    "    \n",
    "    print(f'\\rEpisode {i_episode}\\tAverage Score: {np.mean(scores_window):.2f}', end=\"\")\n",
    "    if i_episode % print_every == 0:\n",
    "        print(f'\\rEpisode {i_episode}\\tAverage Score: {np.mean(scores_window):.2f}')\n",
    "    \n",
    "    # Save model if performance is good enough\n",
    "    if np.mean(scores_window) >= 0.5:\n",
    "        print(f\"\\nEnvironment solved in {i_episode} episodes!\\tAverage Score: {np.mean(scores_window):.2f}\")\n",
    "        torch.save(agent.agents[0].actor_local.state_dict(), '0_actor.pth')\n",
    "        torch.save(agent.agents[0].critic_local.state_dict(), '0_critic.pth')\n",
    "        torch.save(agent.agents[1].actor_local.state_dict(), '1_actor.pth')\n",
    "        torch.save(agent.agents[1].critic_local.state_dict(), '1_critic.pth')\n",
    "        break\n",
    "\n",
    "# Close environment\n",
    "env.close()\n",
    "\n",
    "# Optionally plot scores\n",
    "plt.plot(np.arange(1, len(all_scores)+1), all_scores)\n",
    "plt.ylabel('Score')\n",
    "plt.xlabel('Episode #')\n",
    "plt.show()"
   ]
  },
  {
   "cell_type": "code",
   "execution_count": 7,
   "metadata": {},
   "outputs": [],
   "source": [
    "import os\n",
    "import json\n",
    "from utils import create_next_id_folder"
   ]
  },
  {
   "cell_type": "code",
   "execution_count": 9,
   "metadata": {},
   "outputs": [
    {
     "name": "stdout",
     "output_type": "stream",
     "text": [
      "Successfully created directory: 'ddpg_trials\\1'\n",
      "Episode 2\tAverage Score: 0.00"
     ]
    },
    {
     "name": "stderr",
     "output_type": "stream",
     "text": [
      "c:\\Users\\ielhak\\AppData\\Local\\anaconda3\\envs\\drlnd\\lib\\site-packages\\torch\\nn\\functional.py:1795: UserWarning: nn.functional.tanh is deprecated. Use torch.tanh instead.\n",
      "  warnings.warn(\"nn.functional.tanh is deprecated. Use torch.tanh instead.\")\n"
     ]
    },
    {
     "name": "stdout",
     "output_type": "stream",
     "text": [
      "Episode 100\tAverage Score: 0.01\n",
      "Episode 200\tAverage Score: 0.00\n",
      "Episode 300\tAverage Score: 0.00\n",
      "Episode 400\tAverage Score: 0.01\n",
      "Episode 500\tAverage Score: 0.03\n",
      "Episode 600\tAverage Score: 0.03\n",
      "Episode 700\tAverage Score: 0.00\n",
      "Episode 800\tAverage Score: 0.00\n",
      "Episode 900\tAverage Score: 0.05\n",
      "Episode 1000\tAverage Score: 0.06\n",
      "Episode 1100\tAverage Score: 0.07\n",
      "Episode 1200\tAverage Score: 0.09\n",
      "Episode 1300\tAverage Score: 0.09\n",
      "Episode 1400\tAverage Score: 0.09\n",
      "Episode 1500\tAverage Score: 0.09\n",
      "Episode 1600\tAverage Score: 0.05\n",
      "Episode 1700\tAverage Score: 0.02\n",
      "Episode 1800\tAverage Score: 0.05\n",
      "Episode 1900\tAverage Score: 0.05\n",
      "Episode 2000\tAverage Score: 0.04\n",
      "Episode 2100\tAverage Score: 0.04\n",
      "Episode 2200\tAverage Score: 0.04\n",
      "Episode 2300\tAverage Score: 0.10\n",
      "Episode 2400\tAverage Score: 0.08\n",
      "Episode 2500\tAverage Score: 0.08\n",
      "Episode 2600\tAverage Score: 0.09\n",
      "Episode 2700\tAverage Score: 0.10\n",
      "Episode 2800\tAverage Score: 0.09\n",
      "Episode 2900\tAverage Score: 0.11\n",
      "Episode 3000\tAverage Score: 0.10\n",
      "Episode 3100\tAverage Score: 0.10\n",
      "Episode 3200\tAverage Score: 0.12\n",
      "Episode 3300\tAverage Score: 0.14\n",
      "Episode 3400\tAverage Score: 0.09\n",
      "Episode 3500\tAverage Score: 0.12\n",
      "Episode 3597\tAverage Score: 0.51\n",
      "Environment solved in 3597 episodes!\tAverage Score: 0.51\n"
     ]
    },
    {
     "data": {
      "image/png": "[encoded data removed]",
      "text/plain": [
       "<Figure size 432x288 with 1 Axes>"
      ]
     },
     "metadata": {
      "needs_background": "light"
     },
     "output_type": "display_data"
    },
    {
     "name": "stdout",
     "output_type": "stream",
     "text": [
      "Successfully created directory: 'ddpg_trials\\2'\n"
     ]
    },
    {
     "name": "stderr",
     "output_type": "stream",
     "text": [
      "c:\\Users\\ielhak\\AppData\\Local\\anaconda3\\envs\\drlnd\\lib\\site-packages\\torch\\nn\\functional.py:1795: UserWarning: nn.functional.tanh is deprecated. Use torch.tanh instead.\n",
      "  warnings.warn(\"nn.functional.tanh is deprecated. Use torch.tanh instead.\")\n"
     ]
    },
    {
     "name": "stdout",
     "output_type": "stream",
     "text": [
      "Episode 100\tAverage Score: 0.00\n",
      "Episode 200\tAverage Score: 0.00\n",
      "Episode 300\tAverage Score: 0.00\n",
      "Episode 400\tAverage Score: 0.00\n",
      "Episode 500\tAverage Score: 0.00\n",
      "Episode 600\tAverage Score: 0.00\n",
      "Episode 700\tAverage Score: 0.00\n",
      "Episode 800\tAverage Score: 0.00\n",
      "Episode 900\tAverage Score: 0.00\n",
      "Episode 1000\tAverage Score: 0.00\n",
      "Episode 1100\tAverage Score: 0.00\n",
      "Episode 1200\tAverage Score: 0.01\n",
      "Episode 1300\tAverage Score: 0.00\n",
      "Episode 1400\tAverage Score: 0.01\n",
      "Episode 1500\tAverage Score: 0.00\n",
      "Episode 1600\tAverage Score: 0.04\n",
      "Episode 1700\tAverage Score: 0.00\n",
      "Episode 1800\tAverage Score: 0.00\n",
      "Episode 1900\tAverage Score: 0.01\n",
      "Episode 2000\tAverage Score: 0.02\n"
     ]
    },
    {
     "data": {
      "image/png": "[encoded data removed]",
      "text/plain": [
       "<Figure size 432x288 with 1 Axes>"
      ]
     },
     "metadata": {
      "needs_background": "light"
     },
     "output_type": "display_data"
    }
   ],
   "source": [
    "base_path = 'ddpg_trials'\n",
    "combinations = [\n",
    "    {\n",
    "        \"n_episodes\" : 10000,  # Changed\n",
    "        \"max_t\" : 1000,\n",
    "        \"buffer_size\": int(1e6), \n",
    "        \"batch_size\": 128,\n",
    "        \"gamma\": 0.99, \n",
    "        \"tau\": 1e-3, \n",
    "        \"lr_actor\": 1e-4, \n",
    "        \"lr_critic\": 1e-3,\n",
    "    },\n",
    "    {\n",
    "        \"n_episodes\" : 2000, \n",
    "        \"max_t\" : 1000,\n",
    "        \"buffer_size\": int(1e6), \n",
    "        \"batch_size\": 128,\n",
    "        \"gamma\": 0.99, \n",
    "        \"tau\": 1e-3, \n",
    "        \"lr_actor\": 1e-4, \n",
    "        \"lr_critic\": 3e-3, # Changed\n",
    "    },\n",
    " ]\n",
    "\n",
    "for properties in combinations:\n",
    "    new_path = create_next_id_folder(base_path)\n",
    "\n",
    "    # Create agent\n",
    "    agent = MultiAgent(state_size=state_size, action_size=action_size, num_agents=num_agents, random_seed=0,\n",
    "                       buffer_size=properties['buffer_size'],\n",
    "                       batch_size=properties['batch_size'],\n",
    "                       gamma=properties['gamma'],\n",
    "                       tau=properties['tau'],\n",
    "                       lr_actor=properties['lr_actor'],\n",
    "                       lr_critic=properties['lr_critic'],\n",
    "                       )\n",
    "\n",
    "    # Training parameters\n",
    "    n_episodes = properties['n_episodes']\n",
    "    max_t = properties['max_t']\n",
    "    print_every = 100\n",
    "    scores_window = deque(maxlen=100)\n",
    "    all_scores = []\n",
    "\n",
    "    for i_episode in range(1, n_episodes+1):\n",
    "        env_info = env.reset(train_mode=True)[brain_name]\n",
    "        states = env_info.vector_observations\n",
    "        scores = np.zeros(num_agents)\n",
    "        agent.reset()\n",
    "        \n",
    "        for t in range(max_t):\n",
    "            actions = agent.act(states)                                # get actions\n",
    "            env_info = env.step(actions)[brain_name]                   # step environment\n",
    "            next_states = env_info.vector_observations\n",
    "            rewards = env_info.rewards\n",
    "            dones = env_info.local_done\n",
    "            agent.step(states, actions, rewards, next_states, dones)   # agent learns\n",
    "            scores += rewards\n",
    "            states = next_states\n",
    "            if np.any(dones):\n",
    "                break\n",
    "        \n",
    "        max_score = np.max(scores)\n",
    "        scores_window.append(max_score)\n",
    "        all_scores.append(max_score)\n",
    "        \n",
    "        print(f'\\rEpisode {i_episode}\\tAverage Score: {np.mean(scores_window):.2f}', end=\"\")\n",
    "        if i_episode % print_every == 0:\n",
    "            print(f'\\rEpisode {i_episode}\\tAverage Score: {np.mean(scores_window):.2f}')\n",
    "        \n",
    "        # Save model if performance is good enough\n",
    "        if np.mean(scores_window) >= 0.5:\n",
    "            print(f\"\\nEnvironment solved in {i_episode} episodes!\\tAverage Score: {np.mean(scores_window):.2f}\")\n",
    "            torch.save(agent.actors_local[0].state_dict(), os.path.join(new_path, '0_actor.pth'))\n",
    "            torch.save(agent.actors_local[1].state_dict(), os.path.join(new_path, '1_actor.pth'))            \n",
    "            torch.save(agent.critic_local.state_dict(), os.path.join(new_path, 'critic.pth'))\n",
    "            break\n",
    "\n",
    "    # Close environment\n",
    "    # env.close()\n",
    "\n",
    "    with open(os.path.join(new_path, 'parameters.json'), 'w') as json_file:\n",
    "        json.dump(properties, json_file,  indent=4)\n",
    "\n",
    "    with open(os.path.join(new_path, 'scores.json'), 'w') as f:\n",
    "\n",
    "        json.dump(all_scores, f, indent=4) # indent makes it human-readable\n",
    "\n",
    "    torch.save(agent.actors_local[0].state_dict(), os.path.join(new_path, '0_actor.pth'))\n",
    "    torch.save(agent.actors_local[1].state_dict(), os.path.join(new_path, '1_actor.pth'))\n",
    "    torch.save(agent.critic_local.state_dict(), os.path.join(new_path, 'critic.pth'))\n",
    "    # Optionally plot scores\n",
    "    plt.plot(np.arange(1, len(all_scores)+1), all_scores)\n",
    "    plt.ylabel('Score')\n",
    "    plt.xlabel('Episode #')\n",
    "    plt.show()"
   ]
  },
  {
   "cell_type": "code",
   "execution_count": 8,
   "metadata": {},
   "outputs": [
    {
     "name": "stdout",
     "output_type": "stream",
     "text": [
      "Successfully created directory: 'ddpg_trials\\3'\n",
      "Episode 1\tAverage Score: 0.00"
     ]
    },
    {
     "name": "stderr",
     "output_type": "stream",
     "text": [
      "c:\\Users\\ielhak\\AppData\\Local\\anaconda3\\envs\\drlnd\\lib\\site-packages\\torch\\nn\\functional.py:1795: UserWarning: nn.functional.tanh is deprecated. Use torch.tanh instead.\n",
      "  warnings.warn(\"nn.functional.tanh is deprecated. Use torch.tanh instead.\")\n"
     ]
    },
    {
     "name": "stdout",
     "output_type": "stream",
     "text": [
      "Episode 100\tAverage Score: 0.00\n",
      "Episode 200\tAverage Score: 0.00\n",
      "Episode 300\tAverage Score: 0.00\n",
      "Episode 400\tAverage Score: 0.00\n",
      "Episode 500\tAverage Score: 0.00\n",
      "Episode 600\tAverage Score: 0.00\n",
      "Episode 700\tAverage Score: 0.00\n",
      "Episode 800\tAverage Score: 0.00\n",
      "Episode 900\tAverage Score: 0.00\n",
      "Episode 1000\tAverage Score: 0.00\n",
      "Episode 1100\tAverage Score: 0.02\n",
      "Episode 1200\tAverage Score: 0.01\n",
      "Episode 1300\tAverage Score: 0.01\n",
      "Episode 1400\tAverage Score: 0.01\n",
      "Episode 1500\tAverage Score: 0.01\n",
      "Episode 1600\tAverage Score: 0.00\n",
      "Episode 1700\tAverage Score: 0.05\n",
      "Episode 1800\tAverage Score: 0.16\n",
      "Episode 1900\tAverage Score: 0.89\n",
      "Episode 2000\tAverage Score: 1.84\n",
      "Episode 2100\tAverage Score: 1.13\n",
      "Episode 2200\tAverage Score: 0.98\n",
      "Episode 2300\tAverage Score: 0.70\n",
      "Episode 2400\tAverage Score: 1.74\n",
      "Episode 2500\tAverage Score: 0.29\n",
      "Episode 2600\tAverage Score: 1.12\n",
      "Episode 2700\tAverage Score: 1.21\n",
      "Episode 2800\tAverage Score: 0.96\n",
      "Episode 2900\tAverage Score: 0.87\n",
      "Episode 3000\tAverage Score: 0.00\n",
      "Episode 3100\tAverage Score: 0.00\n",
      "Episode 3200\tAverage Score: 0.00\n",
      "Episode 3300\tAverage Score: 0.04\n",
      "Episode 3400\tAverage Score: 0.28\n",
      "Episode 3500\tAverage Score: 0.01\n",
      "Episode 3600\tAverage Score: 0.03\n",
      "Episode 3700\tAverage Score: 0.61\n",
      "Episode 3800\tAverage Score: 1.83\n",
      "Episode 3900\tAverage Score: 0.96\n",
      "Episode 4000\tAverage Score: 1.41\n",
      "Episode 4100\tAverage Score: 0.70\n",
      "Episode 4200\tAverage Score: 2.07\n",
      "Episode 4300\tAverage Score: 0.19\n",
      "Episode 4400\tAverage Score: 0.02\n",
      "Episode 4500\tAverage Score: 0.00\n",
      "Episode 4600\tAverage Score: 0.00\n",
      "Episode 4700\tAverage Score: 0.00\n",
      "Episode 4800\tAverage Score: 0.00\n",
      "Episode 4900\tAverage Score: 0.00\n",
      "Episode 5000\tAverage Score: 0.00\n",
      "Episode 5100\tAverage Score: 0.00\n",
      "Episode 5200\tAverage Score: 0.00\n",
      "Episode 5300\tAverage Score: 0.00\n",
      "Episode 5400\tAverage Score: 0.02\n",
      "Episode 5500\tAverage Score: 0.04\n",
      "Episode 5600\tAverage Score: 0.08\n",
      "Episode 5700\tAverage Score: 0.98\n",
      "Episode 5800\tAverage Score: 1.34\n",
      "Episode 5900\tAverage Score: 1.21\n",
      "Episode 6000\tAverage Score: 1.34\n",
      "Episode 6100\tAverage Score: 1.92\n",
      "Episode 6200\tAverage Score: 0.59\n",
      "Episode 6300\tAverage Score: 1.86\n",
      "Episode 6400\tAverage Score: 1.02\n",
      "Episode 6500\tAverage Score: 1.87\n",
      "Episode 6600\tAverage Score: 0.56\n",
      "Episode 6700\tAverage Score: 0.05\n",
      "Episode 6800\tAverage Score: 0.01\n",
      "Episode 6900\tAverage Score: 0.23\n",
      "Episode 7000\tAverage Score: 2.35\n",
      "Episode 7100\tAverage Score: 1.94\n",
      "Episode 7200\tAverage Score: 2.25\n",
      "Episode 7300\tAverage Score: 1.12\n",
      "Episode 7400\tAverage Score: 1.48\n",
      "Episode 7500\tAverage Score: 1.24\n",
      "Episode 7600\tAverage Score: 1.46\n",
      "Episode 7700\tAverage Score: 0.99\n",
      "Episode 7800\tAverage Score: 0.00\n",
      "Episode 7900\tAverage Score: 0.12\n",
      "Episode 8000\tAverage Score: 0.02\n",
      "Episode 8100\tAverage Score: 0.04\n",
      "Episode 8200\tAverage Score: 1.05\n",
      "Episode 8300\tAverage Score: 1.55\n",
      "Episode 8400\tAverage Score: 2.16\n",
      "Episode 8500\tAverage Score: 2.06\n",
      "Episode 8600\tAverage Score: 1.80\n",
      "Episode 8700\tAverage Score: 1.85\n",
      "Episode 8800\tAverage Score: 2.01\n",
      "Episode 8900\tAverage Score: 1.67\n",
      "Episode 9000\tAverage Score: 0.21\n",
      "Episode 9100\tAverage Score: 0.05\n",
      "Episode 9200\tAverage Score: 0.00\n",
      "Episode 9300\tAverage Score: 0.00\n",
      "Episode 9400\tAverage Score: 0.08\n",
      "Episode 9500\tAverage Score: 0.46\n",
      "Episode 9600\tAverage Score: 0.99\n",
      "Episode 9700\tAverage Score: 2.04\n",
      "Episode 9800\tAverage Score: 2.16\n",
      "Episode 9900\tAverage Score: 2.10\n",
      "Episode 10000\tAverage Score: 1.50\n"
     ]
    },
    {
     "data": {
      "image/png": "[encoded data removed]",
      "text/plain": [
       "<Figure size 432x288 with 1 Axes>"
      ]
     },
     "metadata": {
      "needs_background": "light"
     },
     "output_type": "display_data"
    }
   ],
   "source": [
    "base_path = 'ddpg_trials'\n",
    "combinations = [\n",
    "    {\n",
    "        \"n_episodes\" : 10000,  # Changed\n",
    "        \"max_t\" : 1000,\n",
    "        \"buffer_size\": int(1e6), \n",
    "        \"batch_size\": 256, # Changed\n",
    "        \"gamma\": 0.99, \n",
    "        \"tau\": 1e-3, \n",
    "        \"lr_actor\": 1e-4, \n",
    "        \"lr_critic\": 1e-3,\n",
    "    },\n",
    " ]\n",
    "\n",
    "for properties in combinations:\n",
    "    new_path = create_next_id_folder(base_path)\n",
    "\n",
    "    # Create agent\n",
    "    agent = MultiAgent(state_size=state_size, action_size=action_size, num_agents=num_agents, random_seed=0,\n",
    "                       buffer_size=properties['buffer_size'],\n",
    "                       batch_size=properties['batch_size'],\n",
    "                       gamma=properties['gamma'],\n",
    "                       tau=properties['tau'],\n",
    "                       lr_actor=properties['lr_actor'],\n",
    "                       lr_critic=properties['lr_critic'],\n",
    "                       )\n",
    "\n",
    "    # Training parameters\n",
    "    n_episodes = properties['n_episodes']\n",
    "    max_t = properties['max_t']\n",
    "    print_every = 100\n",
    "    scores_window = deque(maxlen=100)\n",
    "    all_scores = []\n",
    "\n",
    "    for i_episode in range(1, n_episodes+1):\n",
    "        env_info = env.reset(train_mode=True)[brain_name]\n",
    "        states = env_info.vector_observations\n",
    "        scores = np.zeros(num_agents)\n",
    "        agent.reset()\n",
    "        \n",
    "        for t in range(max_t):\n",
    "            actions = agent.act(states)                                # get actions\n",
    "            env_info = env.step(actions)[brain_name]                   # step environment\n",
    "            next_states = env_info.vector_observations\n",
    "            rewards = env_info.rewards\n",
    "            dones = env_info.local_done\n",
    "            agent.step(states, actions, rewards, next_states, dones)   # agent learns\n",
    "            scores += rewards\n",
    "            states = next_states\n",
    "            if np.any(dones):\n",
    "                break\n",
    "        \n",
    "        max_score = np.max(scores)\n",
    "        scores_window.append(max_score)\n",
    "        all_scores.append(max_score)\n",
    "        \n",
    "        print(f'\\rEpisode {i_episode}\\tAverage Score: {np.mean(scores_window):.2f}', end=\"\")\n",
    "        if i_episode % print_every == 0:\n",
    "            print(f'\\rEpisode {i_episode}\\tAverage Score: {np.mean(scores_window):.2f}')\n",
    "        \n",
    "        # Save model if performance is good enough\n",
    "        if np.mean(scores_window) >= 5.0:\n",
    "            print(f\"\\nEnvironment solved in {i_episode} episodes!\\tAverage Score: {np.mean(scores_window):.2f}\")\n",
    "            torch.save(agent.actors_local[0].state_dict(), os.path.join(new_path, '0_actor.pth'))\n",
    "            torch.save(agent.actors_local[1].state_dict(), os.path.join(new_path, '1_actor.pth'))            \n",
    "            torch.save(agent.critic_local.state_dict(), os.path.join(new_path, 'critic.pth'))\n",
    "            break\n",
    "\n",
    "    # Close environment\n",
    "    # env.close()\n",
    "\n",
    "    with open(os.path.join(new_path, 'parameters.json'), 'w') as json_file:\n",
    "        json.dump(properties, json_file,  indent=4)\n",
    "\n",
    "    with open(os.path.join(new_path, 'scores.json'), 'w') as f:\n",
    "\n",
    "        json.dump(all_scores, f, indent=4) # indent makes it human-readable\n",
    "\n",
    "    torch.save(agent.actors_local[0].state_dict(), os.path.join(new_path, '0_actor.pth'))\n",
    "    torch.save(agent.actors_local[1].state_dict(), os.path.join(new_path, '1_actor.pth'))\n",
    "    torch.save(agent.critic_local.state_dict(), os.path.join(new_path, 'critic.pth'))\n",
    "    # Optionally plot scores\n",
    "    plt.plot(np.arange(1, len(all_scores)+1), all_scores)\n",
    "    plt.ylabel('Score')\n",
    "    plt.xlabel('Episode #')\n",
    "    plt.show()"
   ]
  },
  {
   "cell_type": "code",
   "execution_count": 11,
   "metadata": {},
   "outputs": [
    {
     "name": "stderr",
     "output_type": "stream",
     "text": [
      "  0%|          | 0/100 [00:00<?, ?it/s]"
     ]
    },
    {
     "name": "stderr",
     "output_type": "stream",
     "text": [
      "c:\\Users\\ielhak\\AppData\\Local\\anaconda3\\envs\\drlnd\\lib\\site-packages\\torch\\nn\\functional.py:1795: UserWarning: nn.functional.tanh is deprecated. Use torch.tanh instead.\n",
      "  warnings.warn(\"nn.functional.tanh is deprecated. Use torch.tanh instead.\")\n",
      "100%|██████████| 100/100 [02:46<00:00,  1.67s/it]"
     ]
    },
    {
     "name": "stdout",
     "output_type": "stream",
     "text": [
      "ddpg_trials/1/ achieved an average of -0.004999999888241291 in 100 episodes.\n"
     ]
    },
    {
     "name": "stderr",
     "output_type": "stream",
     "text": [
      "\n"
     ]
    },
    {
     "ename": "TypeError",
     "evalue": "Object of type 'ndarray' is not JSON serializable",
     "output_type": "error",
     "traceback": [
      "\u001b[1;31m---------------------------------------------------------------------------\u001b[0m",
      "\u001b[1;31mTypeError\u001b[0m                                 Traceback (most recent call last)",
      "\u001b[1;32m<ipython-input-11-79d0bfcb4956>\u001b[0m in \u001b[0;36m<module>\u001b[1;34m\u001b[0m\n\u001b[0;32m     47\u001b[0m             \u001b[1;34m\"max_scores\"\u001b[0m\u001b[1;33m:\u001b[0m \u001b[0mmax_scores\u001b[0m\u001b[1;33m,\u001b[0m\u001b[1;33m\u001b[0m\u001b[1;33m\u001b[0m\u001b[0m\n\u001b[0;32m     48\u001b[0m             \u001b[1;34m\"detailed_scores\"\u001b[0m\u001b[1;33m:\u001b[0m \u001b[0mdetailed_scores\u001b[0m\u001b[1;33m,\u001b[0m\u001b[1;33m\u001b[0m\u001b[1;33m\u001b[0m\u001b[0m\n\u001b[1;32m---> 49\u001b[1;33m         }, f, indent=4) # indent makes it human-readable\n\u001b[0m\u001b[0;32m     50\u001b[0m \u001b[1;33m\u001b[0m\u001b[0m\n\u001b[0;32m     51\u001b[0m     \u001b[1;31m# plot the scores\u001b[0m\u001b[1;33m\u001b[0m\u001b[1;33m\u001b[0m\u001b[1;33m\u001b[0m\u001b[0m\n",
      "\u001b[1;32mc:\\Users\\ielhak\\AppData\\Local\\anaconda3\\envs\\drlnd\\lib\\json\\__init__.py\u001b[0m in \u001b[0;36mdump\u001b[1;34m(obj, fp, skipkeys, ensure_ascii, check_circular, allow_nan, cls, indent, separators, default, sort_keys, **kw)\u001b[0m\n\u001b[0;32m    177\u001b[0m     \u001b[1;31m# could accelerate with writelines in some versions of Python, at\u001b[0m\u001b[1;33m\u001b[0m\u001b[1;33m\u001b[0m\u001b[1;33m\u001b[0m\u001b[0m\n\u001b[0;32m    178\u001b[0m     \u001b[1;31m# a debuggability cost\u001b[0m\u001b[1;33m\u001b[0m\u001b[1;33m\u001b[0m\u001b[1;33m\u001b[0m\u001b[0m\n\u001b[1;32m--> 179\u001b[1;33m     \u001b[1;32mfor\u001b[0m \u001b[0mchunk\u001b[0m \u001b[1;32min\u001b[0m \u001b[0miterable\u001b[0m\u001b[1;33m:\u001b[0m\u001b[1;33m\u001b[0m\u001b[1;33m\u001b[0m\u001b[0m\n\u001b[0m\u001b[0;32m    180\u001b[0m         \u001b[0mfp\u001b[0m\u001b[1;33m.\u001b[0m\u001b[0mwrite\u001b[0m\u001b[1;33m(\u001b[0m\u001b[0mchunk\u001b[0m\u001b[1;33m)\u001b[0m\u001b[1;33m\u001b[0m\u001b[1;33m\u001b[0m\u001b[0m\n\u001b[0;32m    181\u001b[0m \u001b[1;33m\u001b[0m\u001b[0m\n",
      "\u001b[1;32mc:\\Users\\ielhak\\AppData\\Local\\anaconda3\\envs\\drlnd\\lib\\json\\encoder.py\u001b[0m in \u001b[0;36m_iterencode\u001b[1;34m(o, _current_indent_level)\u001b[0m\n\u001b[0;32m    428\u001b[0m             \u001b[1;32myield\u001b[0m \u001b[1;32mfrom\u001b[0m \u001b[0m_iterencode_list\u001b[0m\u001b[1;33m(\u001b[0m\u001b[0mo\u001b[0m\u001b[1;33m,\u001b[0m \u001b[0m_current_indent_level\u001b[0m\u001b[1;33m)\u001b[0m\u001b[1;33m\u001b[0m\u001b[1;33m\u001b[0m\u001b[0m\n\u001b[0;32m    429\u001b[0m         \u001b[1;32melif\u001b[0m \u001b[0misinstance\u001b[0m\u001b[1;33m(\u001b[0m\u001b[0mo\u001b[0m\u001b[1;33m,\u001b[0m \u001b[0mdict\u001b[0m\u001b[1;33m)\u001b[0m\u001b[1;33m:\u001b[0m\u001b[1;33m\u001b[0m\u001b[1;33m\u001b[0m\u001b[0m\n\u001b[1;32m--> 430\u001b[1;33m             \u001b[1;32myield\u001b[0m \u001b[1;32mfrom\u001b[0m \u001b[0m_iterencode_dict\u001b[0m\u001b[1;33m(\u001b[0m\u001b[0mo\u001b[0m\u001b[1;33m,\u001b[0m \u001b[0m_current_indent_level\u001b[0m\u001b[1;33m)\u001b[0m\u001b[1;33m\u001b[0m\u001b[1;33m\u001b[0m\u001b[0m\n\u001b[0m\u001b[0;32m    431\u001b[0m         \u001b[1;32melse\u001b[0m\u001b[1;33m:\u001b[0m\u001b[1;33m\u001b[0m\u001b[1;33m\u001b[0m\u001b[0m\n\u001b[0;32m    432\u001b[0m             \u001b[1;32mif\u001b[0m \u001b[0mmarkers\u001b[0m \u001b[1;32mis\u001b[0m \u001b[1;32mnot\u001b[0m \u001b[1;32mNone\u001b[0m\u001b[1;33m:\u001b[0m\u001b[1;33m\u001b[0m\u001b[1;33m\u001b[0m\u001b[0m\n",
      "\u001b[1;32mc:\\Users\\ielhak\\AppData\\Local\\anaconda3\\envs\\drlnd\\lib\\json\\encoder.py\u001b[0m in \u001b[0;36m_iterencode_dict\u001b[1;34m(dct, _current_indent_level)\u001b[0m\n\u001b[0;32m    402\u001b[0m                 \u001b[1;32melse\u001b[0m\u001b[1;33m:\u001b[0m\u001b[1;33m\u001b[0m\u001b[1;33m\u001b[0m\u001b[0m\n\u001b[0;32m    403\u001b[0m                     \u001b[0mchunks\u001b[0m \u001b[1;33m=\u001b[0m \u001b[0m_iterencode\u001b[0m\u001b[1;33m(\u001b[0m\u001b[0mvalue\u001b[0m\u001b[1;33m,\u001b[0m \u001b[0m_current_indent_level\u001b[0m\u001b[1;33m)\u001b[0m\u001b[1;33m\u001b[0m\u001b[1;33m\u001b[0m\u001b[0m\n\u001b[1;32m--> 404\u001b[1;33m                 \u001b[1;32myield\u001b[0m \u001b[1;32mfrom\u001b[0m \u001b[0mchunks\u001b[0m\u001b[1;33m\u001b[0m\u001b[1;33m\u001b[0m\u001b[0m\n\u001b[0m\u001b[0;32m    405\u001b[0m         \u001b[1;32mif\u001b[0m \u001b[0mnewline_indent\u001b[0m \u001b[1;32mis\u001b[0m \u001b[1;32mnot\u001b[0m \u001b[1;32mNone\u001b[0m\u001b[1;33m:\u001b[0m\u001b[1;33m\u001b[0m\u001b[1;33m\u001b[0m\u001b[0m\n\u001b[0;32m    406\u001b[0m             \u001b[0m_current_indent_level\u001b[0m \u001b[1;33m-=\u001b[0m \u001b[1;36m1\u001b[0m\u001b[1;33m\u001b[0m\u001b[1;33m\u001b[0m\u001b[0m\n",
      "\u001b[1;32mc:\\Users\\ielhak\\AppData\\Local\\anaconda3\\envs\\drlnd\\lib\\json\\encoder.py\u001b[0m in \u001b[0;36m_iterencode_list\u001b[1;34m(lst, _current_indent_level)\u001b[0m\n\u001b[0;32m    323\u001b[0m                 \u001b[1;32melse\u001b[0m\u001b[1;33m:\u001b[0m\u001b[1;33m\u001b[0m\u001b[1;33m\u001b[0m\u001b[0m\n\u001b[0;32m    324\u001b[0m                     \u001b[0mchunks\u001b[0m \u001b[1;33m=\u001b[0m \u001b[0m_iterencode\u001b[0m\u001b[1;33m(\u001b[0m\u001b[0mvalue\u001b[0m\u001b[1;33m,\u001b[0m \u001b[0m_current_indent_level\u001b[0m\u001b[1;33m)\u001b[0m\u001b[1;33m\u001b[0m\u001b[1;33m\u001b[0m\u001b[0m\n\u001b[1;32m--> 325\u001b[1;33m                 \u001b[1;32myield\u001b[0m \u001b[1;32mfrom\u001b[0m \u001b[0mchunks\u001b[0m\u001b[1;33m\u001b[0m\u001b[1;33m\u001b[0m\u001b[0m\n\u001b[0m\u001b[0;32m    326\u001b[0m         \u001b[1;32mif\u001b[0m \u001b[0mnewline_indent\u001b[0m \u001b[1;32mis\u001b[0m \u001b[1;32mnot\u001b[0m \u001b[1;32mNone\u001b[0m\u001b[1;33m:\u001b[0m\u001b[1;33m\u001b[0m\u001b[1;33m\u001b[0m\u001b[0m\n\u001b[0;32m    327\u001b[0m             \u001b[0m_current_indent_level\u001b[0m \u001b[1;33m-=\u001b[0m \u001b[1;36m1\u001b[0m\u001b[1;33m\u001b[0m\u001b[1;33m\u001b[0m\u001b[0m\n",
      "\u001b[1;32mc:\\Users\\ielhak\\AppData\\Local\\anaconda3\\envs\\drlnd\\lib\\json\\encoder.py\u001b[0m in \u001b[0;36m_iterencode\u001b[1;34m(o, _current_indent_level)\u001b[0m\n\u001b[0;32m    435\u001b[0m                     \u001b[1;32mraise\u001b[0m \u001b[0mValueError\u001b[0m\u001b[1;33m(\u001b[0m\u001b[1;34m\"Circular reference detected\"\u001b[0m\u001b[1;33m)\u001b[0m\u001b[1;33m\u001b[0m\u001b[1;33m\u001b[0m\u001b[0m\n\u001b[0;32m    436\u001b[0m                 \u001b[0mmarkers\u001b[0m\u001b[1;33m[\u001b[0m\u001b[0mmarkerid\u001b[0m\u001b[1;33m]\u001b[0m \u001b[1;33m=\u001b[0m \u001b[0mo\u001b[0m\u001b[1;33m\u001b[0m\u001b[1;33m\u001b[0m\u001b[0m\n\u001b[1;32m--> 437\u001b[1;33m             \u001b[0mo\u001b[0m \u001b[1;33m=\u001b[0m \u001b[0m_default\u001b[0m\u001b[1;33m(\u001b[0m\u001b[0mo\u001b[0m\u001b[1;33m)\u001b[0m\u001b[1;33m\u001b[0m\u001b[1;33m\u001b[0m\u001b[0m\n\u001b[0m\u001b[0;32m    438\u001b[0m             \u001b[1;32myield\u001b[0m \u001b[1;32mfrom\u001b[0m \u001b[0m_iterencode\u001b[0m\u001b[1;33m(\u001b[0m\u001b[0mo\u001b[0m\u001b[1;33m,\u001b[0m \u001b[0m_current_indent_level\u001b[0m\u001b[1;33m)\u001b[0m\u001b[1;33m\u001b[0m\u001b[1;33m\u001b[0m\u001b[0m\n\u001b[0;32m    439\u001b[0m             \u001b[1;32mif\u001b[0m \u001b[0mmarkers\u001b[0m \u001b[1;32mis\u001b[0m \u001b[1;32mnot\u001b[0m \u001b[1;32mNone\u001b[0m\u001b[1;33m:\u001b[0m\u001b[1;33m\u001b[0m\u001b[1;33m\u001b[0m\u001b[0m\n",
      "\u001b[1;32mc:\\Users\\ielhak\\AppData\\Local\\anaconda3\\envs\\drlnd\\lib\\json\\encoder.py\u001b[0m in \u001b[0;36mdefault\u001b[1;34m(self, o)\u001b[0m\n\u001b[0;32m    178\u001b[0m         \"\"\"\n\u001b[0;32m    179\u001b[0m         raise TypeError(\"Object of type '%s' is not JSON serializable\" %\n\u001b[1;32m--> 180\u001b[1;33m                         o.__class__.__name__)\n\u001b[0m\u001b[0;32m    181\u001b[0m \u001b[1;33m\u001b[0m\u001b[0m\n\u001b[0;32m    182\u001b[0m     \u001b[1;32mdef\u001b[0m \u001b[0mencode\u001b[0m\u001b[1;33m(\u001b[0m\u001b[0mself\u001b[0m\u001b[1;33m,\u001b[0m \u001b[0mo\u001b[0m\u001b[1;33m)\u001b[0m\u001b[1;33m:\u001b[0m\u001b[1;33m\u001b[0m\u001b[1;33m\u001b[0m\u001b[0m\n",
      "\u001b[1;31mTypeError\u001b[0m: Object of type 'ndarray' is not JSON serializable"
     ]
    }
   ],
   "source": [
    "from tqdm import tqdm\n",
    "\n",
    "for k in range(1, 3):\n",
    "    # load the weights from file\n",
    "    models_path = f'ddpg_trials/{k}/'\n",
    "    agent.actors_local[0].load_state_dict(torch.load(f'{models_path}0_actor.pth'))\n",
    "    agent.actors_local[1].load_state_dict(torch.load(f'{models_path}1_actor.pth'))\n",
    "    agent.critic_local.load_state_dict(torch.load(f'{models_path}critic.pth'))\n",
    "    detailed_scores = []\n",
    "    max_scores = []\n",
    "    num_of_episodes = 100\n",
    "    for i in tqdm(range(num_of_episodes)):\n",
    "        env_info = env.reset(train_mode=False)[brain_name] # reset the environment\n",
    "        # state = env_info.vector_observations[0]            # get the current state\n",
    "\n",
    "        states = env_info.vector_observations\n",
    "        scores = np.zeros(num_agents)\n",
    "        agent.reset()\n",
    "\n",
    "        done = False\n",
    "        while not done:\n",
    "\n",
    "            actions = agent.act(states)                                # get actions\n",
    "            env_info = env.step(actions)[brain_name]                   # step environment\n",
    "            next_states = env_info.vector_observations\n",
    "            rewards = env_info.rewards\n",
    "            dones = env_info.local_done\n",
    "            agent.step(states, actions, rewards, next_states, dones)   # agent learns\n",
    "            scores += rewards\n",
    "            states = next_states\n",
    "\n",
    "            if np.any(dones):\n",
    "                break\n",
    "\n",
    "        detailed_scores.append(list(scores))\n",
    "        max_score = np.max(scores)\n",
    "        max_scores.append(max_score)\n",
    "\n",
    "    average_score = sum(scores) / len(scores)\n",
    "    if average_score >= 0.5:\n",
    "        print(f\"PASSED! {models_path} achieved an average of {average_score} in {num_of_episodes} episodes.\")\n",
    "    else:\n",
    "        print(f\"{models_path} achieved an average of {average_score} in {num_of_episodes} episodes.\")\n",
    "    \n",
    "    with open(os.path.join(f'ddpg_trials/{k}', 'test_scores.json'), 'w') as f:\n",
    "        json.dump({\n",
    "            \"max_scores\": max_scores,\n",
    "            \"detailed_scores\": detailed_scores,\n",
    "        }, f, indent=4) # indent makes it human-readable\n",
    "\n",
    "    # plot the scores\n",
    "    fig = plt.figure()\n",
    "    ax = fig.add_subplot(111)\n",
    "    plt.plot(np.arange(len(scores)), scores)\n",
    "    plt.ylabel('Score')\n",
    "    plt.xlabel('Episode #')\n",
    "    plt.show()"
   ]
  },
  {
   "cell_type": "code",
   "execution_count": 9,
   "metadata": {},
   "outputs": [
    {
     "name": "stderr",
     "output_type": "stream",
     "text": [
      "  0%|          | 0/100 [00:00<?, ?it/s]c:\\Users\\ielhak\\AppData\\Local\\anaconda3\\envs\\drlnd\\lib\\site-packages\\torch\\nn\\functional.py:1795: UserWarning: nn.functional.tanh is deprecated. Use torch.tanh instead.\n",
      "  warnings.warn(\"nn.functional.tanh is deprecated. Use torch.tanh instead.\")\n",
      "100%|██████████| 100/100 [6:52:48<00:00, 247.69s/it]   "
     ]
    },
    {
     "name": "stdout",
     "output_type": "stream",
     "text": [
      "PASSED! ddpg_trials/3/ achieved an average of 2.550000037997961 in 100 episodes.\n"
     ]
    },
    {
     "name": "stderr",
     "output_type": "stream",
     "text": [
      "\n"
     ]
    },
    {
     "data": {
      "image/png": "[encoded data removed]",
      "text/plain": [
       "<Figure size 432x288 with 1 Axes>"
      ]
     },
     "metadata": {
      "needs_background": "light"
     },
     "output_type": "display_data"
    }
   ],
   "source": [
    "from tqdm import tqdm\n",
    "\n",
    "for k in range(3, 4):\n",
    "    # load the weights from file\n",
    "    models_path = f'ddpg_trials/{k}/'\n",
    "    agent.actors_local[0].load_state_dict(torch.load(f'{models_path}0_actor.pth'))\n",
    "    agent.actors_local[1].load_state_dict(torch.load(f'{models_path}1_actor.pth'))\n",
    "    agent.critic_local.load_state_dict(torch.load(f'{models_path}critic.pth'))\n",
    "    detailed_scores = []\n",
    "    max_scores = []\n",
    "    num_of_episodes = 100\n",
    "    for i in tqdm(range(num_of_episodes)):\n",
    "        env_info = env.reset(train_mode=False)[brain_name] # reset the environment\n",
    "        # state = env_info.vector_observations[0]            # get the current state\n",
    "\n",
    "        states = env_info.vector_observations\n",
    "        scores = np.zeros(num_agents)\n",
    "        agent.reset()\n",
    "\n",
    "        done = False\n",
    "        while not done:\n",
    "\n",
    "            actions = agent.act(states)                                # get actions\n",
    "            env_info = env.step(actions)[brain_name]                   # step environment\n",
    "            next_states = env_info.vector_observations\n",
    "            rewards = env_info.rewards\n",
    "            dones = env_info.local_done\n",
    "            agent.step(states, actions, rewards, next_states, dones)   # agent learns\n",
    "            scores += rewards\n",
    "            states = next_states\n",
    "\n",
    "            if np.any(dones):\n",
    "                break\n",
    "\n",
    "        detailed_scores.append(list(scores))\n",
    "        max_score = np.max(scores)\n",
    "        max_scores.append(max_score)\n",
    "\n",
    "    average_score = sum(scores) / len(scores)\n",
    "    if average_score >= 0.5:\n",
    "        print(f\"PASSED! {models_path} achieved an average of {average_score} in {num_of_episodes} episodes.\")\n",
    "    else:\n",
    "        print(f\"{models_path} achieved an average of {average_score} in {num_of_episodes} episodes.\")\n",
    "    \n",
    "    with open(os.path.join(f'ddpg_trials/{k}', 'test_scores.json'), 'w') as f:\n",
    "        json.dump({\n",
    "            \"max_scores\": max_scores,\n",
    "            \"detailed_scores\": detailed_scores,\n",
    "        }, f, indent=4) # indent makes it human-readable\n",
    "\n",
    "    # plot the scores\n",
    "    fig = plt.figure()\n",
    "    ax = fig.add_subplot(111)\n",
    "    plt.plot(np.arange(len(scores)), scores)\n",
    "    plt.ylabel('Score')\n",
    "    plt.xlabel('Episode #')\n",
    "    plt.show()"
   ]
  },
  {
   "cell_type": "code",
   "execution_count": null,
   "metadata": {},
   "outputs": [],
   "source": []
  }
 ],
 "metadata": {
  "kernelspec": {
   "display_name": "drlnd",
   "language": "python",
   "name": "python3"
  },
  "language_info": {
   "codemirror_mode": {
    "name": "ipython",
    "version": 3
   },
   "file_extension": ".py",
   "mimetype": "text/x-python",
   "name": "python",
   "nbconvert_exporter": "python",
   "pygments_lexer": "ipython3",
   "version": "3.6.13"
  }
 },
 "nbformat": 4,
 "nbformat_minor": 2
}
